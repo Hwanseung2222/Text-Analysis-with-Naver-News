{
 "cells": [
  {
   "cell_type": "code",
   "execution_count": 1,
   "id": "02f06042",
   "metadata": {
    "scrolled": true
   },
   "outputs": [
    {
     "name": "stderr",
     "output_type": "stream",
     "text": [
      "C:\\Users\\USER\\anaconda3\\lib\\site-packages\\pandas\\core\\arrays\\masked.py:60: UserWarning: Pandas requires version '1.3.6' or newer of 'bottleneck' (version '1.3.5' currently installed).\n",
      "  from pandas.core import (\n"
     ]
    }
   ],
   "source": [
    "import os\n",
    "import pandas as pd\n",
    "import copy\n",
    "import re\n",
    "from kiwipiepy import Kiwi"
   ]
  },
  {
   "cell_type": "markdown",
   "id": "c8d94a97",
   "metadata": {},
   "source": [
    "## 데이터 불러오기"
   ]
  },
  {
   "cell_type": "code",
   "execution_count": 2,
   "id": "bdea7e40",
   "metadata": {
    "scrolled": true
   },
   "outputs": [
    {
     "data": {
      "text/plain": [
       "['2024-04-29_광주.csv',\n",
       " '2024-04-29_대구.csv',\n",
       " '2024-04-29_대전.csv',\n",
       " '2024-04-29_부산.csv',\n",
       " '2024-04-29_서울.csv',\n",
       " '2024-04-29_울산.csv',\n",
       " '2024-04-29_인천.csv',\n",
       " '2024-04-29_제주.csv',\n",
       " '2024-04-30_광주.csv',\n",
       " '2024-04-30_대구.csv',\n",
       " '2024-04-30_대전.csv',\n",
       " '2024-04-30_부산.csv',\n",
       " '2024-04-30_서울.csv',\n",
       " '2024-04-30_울산.csv',\n",
       " '2024-04-30_인천.csv',\n",
       " '2024-04-30_제주.csv',\n",
       " '2024-05-01_광주.csv',\n",
       " '2024-05-01_대구.csv',\n",
       " '2024-05-01_대전.csv',\n",
       " '2024-05-01_부산.csv',\n",
       " '2024-05-01_서울.csv',\n",
       " '2024-05-01_울산.csv',\n",
       " '2024-05-01_인천.csv',\n",
       " '2024-05-01_제주.csv',\n",
       " '2024-05-02_광주.csv',\n",
       " '2024-05-02_대구.csv',\n",
       " '2024-05-02_대전.csv',\n",
       " '2024-05-02_대한민국.csv',\n",
       " '2024-05-02_부산.csv',\n",
       " '2024-05-02_서울.csv',\n",
       " '2024-05-02_울산.csv',\n",
       " '2024-05-02_인천.csv',\n",
       " '2024-05-02_제주.csv',\n",
       " '2024-05-02_한국.csv',\n",
       " '2024-05-05_광주.csv',\n",
       " '2024-05-05_대구.csv',\n",
       " '2024-05-05_대전.csv',\n",
       " '2024-05-05_부산.csv',\n",
       " '2024-05-05_서울.csv',\n",
       " '2024-05-05_울산.csv',\n",
       " '2024-05-05_인천.csv',\n",
       " '2024-05-05_제주.csv',\n",
       " '2024-05-06_광주.csv',\n",
       " '2024-05-06_대구.csv',\n",
       " '2024-05-06_대전.csv',\n",
       " '2024-05-06_대한민국.csv',\n",
       " '2024-05-06_부산.csv',\n",
       " '2024-05-06_서울.csv',\n",
       " '2024-05-06_울산.csv',\n",
       " '2024-05-06_인천.csv',\n",
       " '2024-05-06_제주.csv',\n",
       " '2024-05-06_한국.csv',\n",
       " '2024-05-07_광주.csv',\n",
       " '2024-05-07_대구.csv',\n",
       " '2024-05-07_대전.csv',\n",
       " '2024-05-07_대한민국.csv',\n",
       " '2024-05-07_부산.csv',\n",
       " '2024-05-07_서울.csv',\n",
       " '2024-05-07_울산.csv',\n",
       " '2024-05-07_인천.csv',\n",
       " '2024-05-07_제주.csv',\n",
       " '2024-05-07_한국.csv',\n",
       " '2024-05-09_광주.csv',\n",
       " '2024-05-09_대구.csv',\n",
       " '2024-05-09_대전.csv',\n",
       " '2024-05-09_부산.csv',\n",
       " '2024-05-09_서울.csv',\n",
       " '2024-05-09_울산.csv',\n",
       " '2024-05-09_인천.csv',\n",
       " '2024-05-09_제주.csv',\n",
       " '2024-05-11_광주.csv',\n",
       " '2024-05-11_대구.csv',\n",
       " '2024-05-11_대전.csv',\n",
       " '2024-05-11_부산.csv',\n",
       " '2024-05-11_서울.csv',\n",
       " '2024-05-11_울산.csv',\n",
       " '2024-05-11_인천.csv',\n",
       " '2024-05-11_제주.csv',\n",
       " '2024-05-12_광주.csv',\n",
       " '2024-05-12_대구.csv',\n",
       " '2024-05-12_대전.csv',\n",
       " '2024-05-12_대한민국.csv',\n",
       " '2024-05-12_부산.csv',\n",
       " '2024-05-12_서울.csv',\n",
       " '2024-05-12_울산.csv',\n",
       " '2024-05-12_인천.csv',\n",
       " '2024-05-12_제주.csv',\n",
       " '2024-05-12_한국.csv',\n",
       " '2024-05-13_광주.csv',\n",
       " '2024-05-13_대구.csv',\n",
       " '2024-05-13_대전.csv',\n",
       " '2024-05-13_대한민국.csv',\n",
       " '2024-05-13_부산.csv',\n",
       " '2024-05-13_서울.csv',\n",
       " '2024-05-13_울산.csv',\n",
       " '2024-05-13_인천.csv',\n",
       " '2024-05-13_제주.csv',\n",
       " '2024-05-13_한국.csv',\n",
       " '2024-05-14_광주.csv',\n",
       " '2024-05-14_대구.csv',\n",
       " '2024-05-14_대전.csv',\n",
       " '2024-05-14_대한민국.csv',\n",
       " '2024-05-14_부산.csv',\n",
       " '2024-05-14_서울.csv',\n",
       " '2024-05-14_울산.csv',\n",
       " '2024-05-14_인천.csv',\n",
       " '2024-05-14_제주.csv',\n",
       " '2024-05-14_한국.csv',\n",
       " '2024-05-15_광주.csv',\n",
       " '2024-05-15_대구.csv',\n",
       " '2024-05-15_대전.csv',\n",
       " '2024-05-15_부산.csv',\n",
       " '2024-05-15_서울.csv',\n",
       " '2024-05-15_울산.csv',\n",
       " '2024-05-15_인천.csv',\n",
       " '2024-05-15_제주.csv',\n",
       " '2024-05-16_광주.csv',\n",
       " '2024-05-16_대구.csv',\n",
       " '2024-05-16_대전.csv',\n",
       " '2024-05-16_대한민국.csv',\n",
       " '2024-05-16_부산.csv',\n",
       " '2024-05-16_서울.csv',\n",
       " '2024-05-16_울산.csv',\n",
       " '2024-05-16_인천.csv',\n",
       " '2024-05-16_제주.csv',\n",
       " '2024-05-16_한국.csv',\n",
       " '2024-05-17_광주.csv',\n",
       " '2024-05-17_대구.csv',\n",
       " '2024-05-17_대전.csv',\n",
       " '2024-05-17_대한민국.csv',\n",
       " '2024-05-17_부산.csv',\n",
       " '2024-05-17_서울.csv',\n",
       " '2024-05-17_울산.csv',\n",
       " '2024-05-17_인천.csv',\n",
       " '2024-05-17_제주.csv',\n",
       " '2024-05-17_한국.csv',\n",
       " '2024-05-18_광주.csv',\n",
       " '2024-05-18_대구.csv',\n",
       " '2024-05-18_대전.csv',\n",
       " '2024-05-18_대한민국.csv',\n",
       " '2024-05-18_부산.csv',\n",
       " '2024-05-18_서울.csv',\n",
       " '2024-05-18_울산.csv',\n",
       " '2024-05-18_인천.csv',\n",
       " '2024-05-18_제주.csv',\n",
       " '2024-05-18_한국.csv',\n",
       " '2024-05-19_대한민국.csv',\n",
       " '2024-05-19_한국.csv',\n",
       " '2024-05-20_광주.csv',\n",
       " '2024-05-20_대구.csv',\n",
       " '2024-05-20_대전.csv',\n",
       " '2024-05-20_대한민국.csv',\n",
       " '2024-05-20_부산.csv',\n",
       " '2024-05-20_서울.csv',\n",
       " '2024-05-20_울산.csv',\n",
       " '2024-05-20_인천.csv',\n",
       " '2024-05-20_제주.csv',\n",
       " '2024-05-20_한국.csv',\n",
       " '2024-05-21_광주.csv',\n",
       " '2024-05-21_대구.csv',\n",
       " '2024-05-21_대전.csv',\n",
       " '2024-05-21_부산.csv',\n",
       " '2024-05-21_서울.csv',\n",
       " '2024-05-21_울산.csv',\n",
       " '2024-05-21_인천.csv',\n",
       " '2024-05-21_제주.csv',\n",
       " '2024-05-22_광주.csv',\n",
       " '2024-05-22_대구.csv',\n",
       " '2024-05-22_대전.csv',\n",
       " '2024-05-22_대한민국.csv',\n",
       " '2024-05-22_부산.csv',\n",
       " '2024-05-22_서울.csv',\n",
       " '2024-05-22_울산.csv',\n",
       " '2024-05-22_인천.csv',\n",
       " '2024-05-22_제주.csv',\n",
       " '2024-05-22_한국.csv',\n",
       " '2024-05-23_광주.csv',\n",
       " '2024-05-23_대구.csv',\n",
       " '2024-05-23_대전.csv',\n",
       " '2024-05-23_대한민국.csv',\n",
       " '2024-05-23_부산.csv',\n",
       " '2024-05-23_서울.csv',\n",
       " '2024-05-23_울산.csv',\n",
       " '2024-05-23_인천.csv',\n",
       " '2024-05-23_제주.csv',\n",
       " '2024-05-23_한국.csv',\n",
       " '2024-05-24_광주.csv',\n",
       " '2024-05-24_대구.csv',\n",
       " '2024-05-24_대전.csv',\n",
       " '2024-05-24_대한민국.csv',\n",
       " '2024-05-24_부산.csv',\n",
       " '2024-05-24_서울.csv',\n",
       " '2024-05-24_울산.csv',\n",
       " '2024-05-24_인천.csv',\n",
       " '2024-05-24_제주.csv',\n",
       " '2024-05-24_한국.csv',\n",
       " '2024-05-25_광주.csv',\n",
       " '2024-05-25_대구.csv',\n",
       " '2024-05-25_대전.csv',\n",
       " '2024-05-25_대한민국.csv',\n",
       " '2024-05-25_부산.csv',\n",
       " '2024-05-25_서울.csv',\n",
       " '2024-05-25_울산.csv',\n",
       " '2024-05-25_인천.csv',\n",
       " '2024-05-25_제주.csv',\n",
       " '2024-05-25_한국.csv',\n",
       " '2024-05-26_광주.csv',\n",
       " '2024-05-26_대구.csv',\n",
       " '2024-05-26_대전.csv',\n",
       " '2024-05-26_대한민국.csv',\n",
       " '2024-05-26_부산.csv',\n",
       " '2024-05-26_서울.csv',\n",
       " '2024-05-26_울산.csv',\n",
       " '2024-05-26_인천.csv',\n",
       " '2024-05-26_제주.csv',\n",
       " '2024-05-26_한국.csv',\n",
       " '2024-05-28_광주.csv',\n",
       " '2024-05-28_대구.csv',\n",
       " '2024-05-28_대전.csv',\n",
       " '2024-05-28_대한민국.csv',\n",
       " '2024-05-28_부산.csv',\n",
       " '2024-05-28_서울.csv',\n",
       " '2024-05-28_울산.csv',\n",
       " '2024-05-28_인천.csv',\n",
       " '2024-05-28_제주.csv',\n",
       " '2024-05-28_한국.csv',\n",
       " '2024-05-29_광주.csv',\n",
       " '2024-05-29_대구.csv',\n",
       " '2024-05-29_대전.csv',\n",
       " '2024-05-29_대한민국.csv',\n",
       " '2024-05-29_부산.csv',\n",
       " '2024-05-29_서울.csv',\n",
       " '2024-05-29_울산.csv',\n",
       " '2024-05-29_인천.csv',\n",
       " '2024-05-29_제주.csv',\n",
       " '2024-05-29_한국.csv',\n",
       " '2024-05-30_광주.csv',\n",
       " '2024-05-30_대구.csv',\n",
       " '2024-05-30_대전.csv',\n",
       " '2024-05-30_대한민국.csv',\n",
       " '2024-05-30_부산.csv',\n",
       " '2024-05-30_서울.csv',\n",
       " '2024-05-30_울산.csv',\n",
       " '2024-05-30_인천.csv',\n",
       " '2024-05-30_제주.csv',\n",
       " '2024-05-30_한국.csv',\n",
       " '2024-05-31_광주.csv',\n",
       " '2024-05-31_대구.csv',\n",
       " '2024-05-31_대전.csv',\n",
       " '2024-05-31_대한민국.csv',\n",
       " '2024-05-31_부산.csv',\n",
       " '2024-05-31_서울.csv',\n",
       " '2024-05-31_울산.csv',\n",
       " '2024-05-31_인천.csv',\n",
       " '2024-05-31_제주.csv',\n",
       " '2024-06-01_광주.csv',\n",
       " '2024-06-01_대구.csv',\n",
       " '2024-06-01_대전.csv',\n",
       " '2024-06-01_대한민국.csv',\n",
       " '2024-06-01_부산.csv',\n",
       " '2024-06-01_서울.csv',\n",
       " '2024-06-01_울산.csv',\n",
       " '2024-06-01_인천.csv',\n",
       " '2024-06-01_제주.csv',\n",
       " '2024-06-01_한국.csv']"
      ]
     },
     "execution_count": 2,
     "metadata": {},
     "output_type": "execute_result"
    }
   ],
   "source": [
    "path = 'data'\n",
    "file_list = os.listdir(path) # file_list 에 path 의 경로를 설정.\n",
    "file_list_py = [file for file in file_list if file.endswith('.csv')] ## 파일명 끝이 .csv인 경우\n",
    "# file_list 에 csv 로 끝나는 파일들을 file_list_py 안에 넣음.\n",
    "file_list_py"
   ]
  },
  {
   "cell_type": "code",
   "execution_count": 3,
   "id": "e694d9c6",
   "metadata": {},
   "outputs": [],
   "source": [
    "df = pd.DataFrame()\n",
    "for i in file_list_py:\n",
    "    if '광주' in i:\n",
    "        data = pd.read_csv(path + '/' + i)\n",
    "        df = pd.concat([df,data])\n",
    "    \n",
    "df_광주 = df.reset_index(drop = True)"
   ]
  },
  {
   "cell_type": "code",
   "execution_count": 4,
   "id": "424a7545",
   "metadata": {},
   "outputs": [],
   "source": [
    "df = pd.DataFrame()\n",
    "for i in file_list_py:\n",
    "    if '대구' in i:\n",
    "        data = pd.read_csv(path + '/' + i)\n",
    "        df = pd.concat([df,data])\n",
    "    \n",
    "df_대구 = df.reset_index(drop = True)"
   ]
  },
  {
   "cell_type": "code",
   "execution_count": 5,
   "id": "3b23903b",
   "metadata": {},
   "outputs": [],
   "source": [
    "df = pd.DataFrame()\n",
    "for i in file_list_py:\n",
    "    if '대전' in i:\n",
    "        data = pd.read_csv(path + '/' + i)\n",
    "        df = pd.concat([df,data])\n",
    "    \n",
    "df_대전 = df.reset_index(drop = True)"
   ]
  },
  {
   "cell_type": "code",
   "execution_count": 6,
   "id": "cd2a4fa6",
   "metadata": {},
   "outputs": [],
   "source": [
    "df = pd.DataFrame()\n",
    "for i in file_list_py:\n",
    "    if '부산' in i:\n",
    "        data = pd.read_csv(path + '/' + i)\n",
    "        df = pd.concat([df,data])\n",
    "    \n",
    "df_부산 = df.reset_index(drop = True)"
   ]
  },
  {
   "cell_type": "code",
   "execution_count": 7,
   "id": "f85e8c4f",
   "metadata": {},
   "outputs": [],
   "source": [
    "df = pd.DataFrame()\n",
    "for i in file_list_py:\n",
    "    if '서울' in i:\n",
    "        data = pd.read_csv(path + '/' + i)\n",
    "        df = pd.concat([df,data])\n",
    "    \n",
    "df_서울 = df.reset_index(drop = True)"
   ]
  },
  {
   "cell_type": "code",
   "execution_count": 8,
   "id": "1734a081",
   "metadata": {},
   "outputs": [],
   "source": [
    "df = pd.DataFrame()\n",
    "for i in file_list_py:\n",
    "    if '울산' in i:\n",
    "        data = pd.read_csv(path + '/' + i)\n",
    "        df = pd.concat([df,data])\n",
    "    \n",
    "df_울산 = df.reset_index(drop = True)"
   ]
  },
  {
   "cell_type": "code",
   "execution_count": 9,
   "id": "f24bd7d9",
   "metadata": {},
   "outputs": [],
   "source": [
    "df = pd.DataFrame()\n",
    "for i in file_list_py:\n",
    "    if '인천' in i:\n",
    "        data = pd.read_csv(path + '/' + i)\n",
    "        df = pd.concat([df,data])\n",
    "    \n",
    "df_인천 = df.reset_index(drop = True)"
   ]
  },
  {
   "cell_type": "code",
   "execution_count": 10,
   "id": "50c044f4",
   "metadata": {},
   "outputs": [],
   "source": [
    "df = pd.DataFrame()\n",
    "for i in file_list_py:\n",
    "    if '제주' in i:\n",
    "        data = pd.read_csv(path + '/' + i)\n",
    "        df = pd.concat([df,data])\n",
    "    \n",
    "df_제주 = df.reset_index(drop = True)"
   ]
  },
  {
   "cell_type": "code",
   "execution_count": 11,
   "id": "a4709bea",
   "metadata": {},
   "outputs": [],
   "source": [
    "df = pd.DataFrame()\n",
    "for i in file_list_py:\n",
    "    if ('대한민국' in i) or ('한국' in i):\n",
    "        data = pd.read_csv(path + '/' + i)\n",
    "        df = pd.concat([df,data])\n",
    "    \n",
    "df_대한민국 = df.reset_index(drop = True)"
   ]
  },
  {
   "cell_type": "code",
   "execution_count": 12,
   "id": "bf627967",
   "metadata": {},
   "outputs": [],
   "source": [
    "df_광주 = df_광주.drop(columns=['Unnamed: 0'])\n",
    "df_대구 = df_대구.drop(columns=['Unnamed: 0'])\n",
    "df_대전 = df_대전.drop(columns=['Unnamed: 0'])\n",
    "df_부산 = df_부산.drop(columns=['Unnamed: 0'])\n",
    "df_서울 = df_서울.drop(columns=['Unnamed: 0'])\n",
    "df_울산 = df_울산.drop(columns=['Unnamed: 0'])\n",
    "df_인천 = df_인천.drop(columns=['Unnamed: 0'])\n",
    "df_제주 = df_제주.drop(columns=['Unnamed: 0'])\n",
    "df_대한민국 = df_대한민국.drop(columns=['Unnamed: 0'])"
   ]
  },
  {
   "cell_type": "markdown",
   "id": "d0ec2f73",
   "metadata": {},
   "source": [
    "## 중복값 제거"
   ]
  },
  {
   "cell_type": "code",
   "execution_count": 13,
   "id": "927bcf80",
   "metadata": {},
   "outputs": [
    {
     "name": "stdout",
     "output_type": "stream",
     "text": [
      "광주 원본: 2051\n",
      "중복 값 : 511\n",
      "중복 제거 후 : 1540\n"
     ]
    }
   ],
   "source": [
    "print('광주 원본:',len(df_광주))\n",
    "print('중복 값 :',len(df_광주[df_광주['content'].duplicated()]))\n",
    "df_광주 = df_광주.drop_duplicates(subset=['content'])\n",
    "df_광주 = df_광주.reset_index(drop=True)\n",
    "print('중복 제거 후 :',len(df_광주))"
   ]
  },
  {
   "cell_type": "code",
   "execution_count": 14,
   "id": "8baea658",
   "metadata": {},
   "outputs": [
    {
     "name": "stdout",
     "output_type": "stream",
     "text": [
      "대구 원본: 2311\n",
      "중복 값 : 608\n",
      "중복 제거 후 : 1703\n"
     ]
    }
   ],
   "source": [
    "print('대구 원본:',len(df_대구))\n",
    "print('중복 값 :',len(df_대구[df_대구['content'].duplicated()]))\n",
    "df_대구 = df_대구.drop_duplicates(subset=['content'])\n",
    "df_대구 = df_대구.reset_index(drop=True)\n",
    "print('중복 제거 후 :',len(df_대구))"
   ]
  },
  {
   "cell_type": "code",
   "execution_count": 15,
   "id": "9ab0ea0f",
   "metadata": {},
   "outputs": [
    {
     "name": "stdout",
     "output_type": "stream",
     "text": [
      "대전 원본: 1853\n",
      "중복 값 : 515\n",
      "중복 제거 후 : 1338\n"
     ]
    }
   ],
   "source": [
    "print('대전 원본:',len(df_대전))\n",
    "print('중복 값 :',len(df_대전[df_대전['content'].duplicated()]))\n",
    "df_대전 = df_대전.drop_duplicates(subset=['content'])\n",
    "df_대전 = df_대전.reset_index(drop=True)\n",
    "print('중복 제거 후 :',len(df_대전))"
   ]
  },
  {
   "cell_type": "code",
   "execution_count": 16,
   "id": "9f73640d",
   "metadata": {},
   "outputs": [
    {
     "name": "stdout",
     "output_type": "stream",
     "text": [
      "부산 원본: 2606\n",
      "중복 값 : 679\n",
      "중복 제거 후 : 1927\n"
     ]
    }
   ],
   "source": [
    "print('부산 원본:',len(df_부산))\n",
    "print('중복 값 :',len(df_부산[df_부산['content'].duplicated()]))\n",
    "df_부산 = df_부산.drop_duplicates(subset=['content'])\n",
    "df_부산 = df_부산.reset_index(drop=True)\n",
    "print('중복 제거 후 :',len(df_부산))"
   ]
  },
  {
   "cell_type": "code",
   "execution_count": 17,
   "id": "60898f05",
   "metadata": {},
   "outputs": [
    {
     "name": "stdout",
     "output_type": "stream",
     "text": [
      "서울 원본: 2751\n",
      "중복 값 : 641\n",
      "중복 제거 후 : 2110\n"
     ]
    }
   ],
   "source": [
    "print('서울 원본:',len(df_서울))\n",
    "print('중복 값 :',len(df_서울[df_서울['content'].duplicated()]))\n",
    "df_서울 = df_서울.drop_duplicates(subset=['content'])\n",
    "df_서울 = df_서울.reset_index(drop=True)\n",
    "print('중복 제거 후 :',len(df_서울))"
   ]
  },
  {
   "cell_type": "code",
   "execution_count": 18,
   "id": "be33b403",
   "metadata": {},
   "outputs": [
    {
     "name": "stdout",
     "output_type": "stream",
     "text": [
      "울산 원본: 2039\n",
      "중복 값 : 634\n",
      "중복 제거 후 : 1405\n"
     ]
    }
   ],
   "source": [
    "print('울산 원본:',len(df_울산))\n",
    "print('중복 값 :',len(df_울산[df_울산['content'].duplicated()]))\n",
    "df_울산 = df_울산.drop_duplicates(subset=['content'])\n",
    "df_울산 = df_울산.reset_index(drop=True)\n",
    "print('중복 제거 후 :',len(df_울산))"
   ]
  },
  {
   "cell_type": "code",
   "execution_count": 19,
   "id": "a1f05dfa",
   "metadata": {},
   "outputs": [
    {
     "name": "stdout",
     "output_type": "stream",
     "text": [
      "인천 원본: 1982\n",
      "중복 값 : 539\n",
      "중복 제거 후 : 1443\n"
     ]
    }
   ],
   "source": [
    "print('인천 원본:',len(df_인천))\n",
    "print('중복 값 :',len(df_인천[df_인천['content'].duplicated()]))\n",
    "df_인천 = df_인천.drop_duplicates(subset=['content'])\n",
    "df_인천 = df_인천.reset_index(drop=True)\n",
    "print('중복 제거 후 :',len(df_인천))"
   ]
  },
  {
   "cell_type": "code",
   "execution_count": 20,
   "id": "0a779b66",
   "metadata": {},
   "outputs": [
    {
     "name": "stdout",
     "output_type": "stream",
     "text": [
      "제주 원본: 2366\n",
      "중복 값 : 734\n",
      "중복 제거 후 : 1632\n"
     ]
    }
   ],
   "source": [
    "print('제주 원본:',len(df_제주))\n",
    "print('중복 값 :',len(df_제주[df_제주['content'].duplicated()]))\n",
    "df_제주 = df_제주.drop_duplicates(subset=['content'])\n",
    "df_제주 = df_제주.reset_index(drop=True)\n",
    "print('중복 제거 후 :',len(df_제주))"
   ]
  },
  {
   "cell_type": "code",
   "execution_count": 21,
   "id": "43ecf1f6",
   "metadata": {
    "scrolled": true
   },
   "outputs": [
    {
     "name": "stdout",
     "output_type": "stream",
     "text": [
      "대한민국 원본: 3071\n",
      "중복 값 : 912\n",
      "중복 제거 후 : 2159\n"
     ]
    }
   ],
   "source": [
    "print('대한민국 원본:',len(df_대한민국))\n",
    "print('중복 값 :',len(df_대한민국[df_대한민국['content'].duplicated()]))\n",
    "df_대한민국 = df_대한민국.drop_duplicates(subset=['content'])\n",
    "df_대한민국 = df_대한민국.reset_index(drop=True)\n",
    "print('중복 제거 후 :',len(df_대한민국))"
   ]
  },
  {
   "cell_type": "markdown",
   "id": "c9059565",
   "metadata": {},
   "source": [
    "### 전체 데이터 수 확인"
   ]
  },
  {
   "cell_type": "code",
   "execution_count": 22,
   "id": "78ff3ed8",
   "metadata": {},
   "outputs": [
    {
     "name": "stdout",
     "output_type": "stream",
     "text": [
      "광주 데이터 수:  1540\n",
      "대구 데이터 수:  1703\n",
      "대전 데이터 수:  1338\n",
      "부산 데이터 수:  1927\n",
      "서울 데이터 수:  2110\n",
      "울산 데이터 수:  1405\n",
      "인천 데이터 수:  1443\n",
      "제주 데이터 수:  1632\n",
      "대한민국 데이터 수:  2159\n",
      "데이터 총합:  15257\n"
     ]
    }
   ],
   "source": [
    "print('광주 데이터 수: ', len(df_광주))\n",
    "print('대구 데이터 수: ', len(df_대구))\n",
    "print('대전 데이터 수: ', len(df_대전))\n",
    "print('부산 데이터 수: ', len(df_부산))\n",
    "print('서울 데이터 수: ', len(df_서울))\n",
    "print('울산 데이터 수: ', len(df_울산))\n",
    "print('인천 데이터 수: ', len(df_인천))\n",
    "print('제주 데이터 수: ', len(df_제주))\n",
    "print('대한민국 데이터 수: ', len(df_대한민국))\n",
    "print('데이터 총합: ', len(df_광주)+len(df_대구)+len(df_대전)+len(df_부산)+len(df_서울)+len(df_울산)+len(df_인천)+len(df_제주)+len(df_대한민국))"
   ]
  },
  {
   "cell_type": "markdown",
   "id": "1f03c0a5",
   "metadata": {},
   "source": [
    "### Data preprocessing"
   ]
  },
  {
   "cell_type": "code",
   "execution_count": 23,
   "id": "90d89c79",
   "metadata": {},
   "outputs": [],
   "source": [
    "from kiwipiepy.utils import Stopwords\n",
    "stopwords = Stopwords()\n",
    "kiwi = Kiwi()"
   ]
  },
  {
   "cell_type": "code",
   "execution_count": 24,
   "id": "7f281306",
   "metadata": {},
   "outputs": [],
   "source": [
    "불용어추가 = ['대한민국','한국','광주','대구','대전','부산','서울','울산','인천','제주','광주광역시','광주시','대구광역시','대구시',\n",
    "        '대전시','대전광역시','부산시','부산광역시','서울시','서울특별시','울산시','울산광역시','인천시','인천광역시','제주특별자치도','제주도']\n",
    "for name in 불용어추가:\n",
    "    stopwords.add((name, 'NNP'))\n",
    "    \n",
    "for word in [('있', 'VA'), ('가', 'VV'), ('월', 'NNG'), ('좋', 'VV')]:\n",
    "    stopwords.add(word)     "
   ]
  },
  {
   "cell_type": "code",
   "execution_count": 25,
   "id": "a573b996",
   "metadata": {},
   "outputs": [],
   "source": [
    "def preprocess_korean(text, kiwi = kiwi):\n",
    "    my_text = copy.copy(text)\n",
    "    my_text = re.sub(r'[^가-힣\\s]', '', my_text) # 한글 추출\n",
    "    my_text = re.sub(r'\\s+', ' ', my_text).strip() # 연속된 공백 하나로 변환\n",
    "    my_text = kiwi.space(my_text) # 띄어쓰기 교정\n",
    "    \n",
    "    sents = kiwi.split_into_sents(my_text) # 문장토큰화\n",
    "    results = []\n",
    "    for sent in sents:\n",
    "        tokens = kiwi.tokenize(sent.text, normalize_coda=True, stopwords=stopwords) # 단어 토큰화(품사태깅포함), 불용어처리 \n",
    "        for token in tokens:\n",
    "            if token.tag in ['NNG', 'NNP', 'VA']:  # 품사 태그로 필터링\n",
    "                results.append((token.form, token.tag)) \n",
    "\n",
    "    result  = kiwi.join(results)\n",
    "    \n",
    "    return result"
   ]
  },
  {
   "cell_type": "code",
   "execution_count": 26,
   "id": "f19f11ca",
   "metadata": {},
   "outputs": [],
   "source": [
    "df_광주['preprocessed_data'] = df_광주['content'].apply(lambda x : preprocess_korean(x))"
   ]
  },
  {
   "cell_type": "code",
   "execution_count": 27,
   "id": "bd41671b",
   "metadata": {
    "scrolled": true
   },
   "outputs": [],
   "source": [
    "df_대구['preprocessed_data'] = df_대구['content'].apply(lambda x : preprocess_korean(x)) "
   ]
  },
  {
   "cell_type": "code",
   "execution_count": 28,
   "id": "40c7b796",
   "metadata": {},
   "outputs": [],
   "source": [
    "df_대전['preprocessed_data'] = df_대전['content'].apply(lambda x : preprocess_korean(x)) "
   ]
  },
  {
   "cell_type": "code",
   "execution_count": 29,
   "id": "7f6271df",
   "metadata": {},
   "outputs": [],
   "source": [
    "df_부산['preprocessed_data'] = df_부산['content'].apply(lambda x : preprocess_korean(x)) "
   ]
  },
  {
   "cell_type": "code",
   "execution_count": 30,
   "id": "fdadcd36",
   "metadata": {},
   "outputs": [],
   "source": [
    "df_서울['preprocessed_data'] = df_서울['content'].apply(lambda x : preprocess_korean(x)) "
   ]
  },
  {
   "cell_type": "code",
   "execution_count": 31,
   "id": "47e50ad4",
   "metadata": {},
   "outputs": [],
   "source": [
    "df_울산['preprocessed_data'] = df_울산['content'].apply(lambda x : preprocess_korean(x)) "
   ]
  },
  {
   "cell_type": "code",
   "execution_count": 32,
   "id": "b28edd23",
   "metadata": {},
   "outputs": [],
   "source": [
    "df_인천['preprocessed_data'] = df_인천['content'].apply(lambda x : preprocess_korean(x)) "
   ]
  },
  {
   "cell_type": "code",
   "execution_count": 33,
   "id": "1b7f577e",
   "metadata": {},
   "outputs": [],
   "source": [
    "df_제주['preprocessed_data'] = df_제주['content'].apply(lambda x : preprocess_korean(x)) "
   ]
  },
  {
   "cell_type": "code",
   "execution_count": 34,
   "id": "740254db",
   "metadata": {},
   "outputs": [],
   "source": [
    "df_대한민국['preprocessed_data'] = df_대한민국['content'].apply(lambda x : preprocess_korean(x)) "
   ]
  },
  {
   "cell_type": "markdown",
   "id": "adc9e44d",
   "metadata": {},
   "source": [
    "### 전처리 데이터 저장"
   ]
  },
  {
   "cell_type": "code",
   "execution_count": 35,
   "id": "adde825a",
   "metadata": {},
   "outputs": [],
   "source": [
    "df_광주.to_csv(\"광주.csv\", index = False, encoding=\"utf-8-sig\")\n",
    "df_대구.to_csv(\"대구.csv\", index = False, encoding=\"utf-8-sig\")\n",
    "df_대전.to_csv(\"대전.csv\", index = False, encoding=\"utf-8-sig\")\n",
    "df_부산.to_csv(\"부산.csv\", index = False, encoding=\"utf-8-sig\")\n",
    "df_서울.to_csv(\"서울.csv\", index = False, encoding=\"utf-8-sig\")\n",
    "df_울산.to_csv(\"울산.csv\", index = False, encoding=\"utf-8-sig\")\n",
    "df_인천.to_csv(\"인천.csv\", index = False, encoding=\"utf-8-sig\")\n",
    "df_제주.to_csv(\"제주.csv\", index = False, encoding=\"utf-8-sig\")\n",
    "df_대한민국.to_csv(\"대한민국.csv\", index = False, encoding=\"utf-8-sig\")"
   ]
  }
 ],
 "metadata": {
  "kernelspec": {
   "display_name": "Python 3 (ipykernel)",
   "language": "python",
   "name": "python3"
  },
  "language_info": {
   "codemirror_mode": {
    "name": "ipython",
    "version": 3
   },
   "file_extension": ".py",
   "mimetype": "text/x-python",
   "name": "python",
   "nbconvert_exporter": "python",
   "pygments_lexer": "ipython3",
   "version": "3.9.16"
  }
 },
 "nbformat": 4,
 "nbformat_minor": 5
}
