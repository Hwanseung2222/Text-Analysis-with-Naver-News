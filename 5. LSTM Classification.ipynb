{
 "cells": [
  {
   "cell_type": "code",
   "execution_count": 1,
   "id": "6a0d9724",
   "metadata": {},
   "outputs": [
    {
     "name": "stderr",
     "output_type": "stream",
     "text": [
      "C:\\Users\\USER\\anaconda3\\lib\\site-packages\\pandas\\core\\arrays\\masked.py:60: UserWarning: Pandas requires version '1.3.6' or newer of 'bottleneck' (version '1.3.5' currently installed).\n",
      "  from pandas.core import (\n"
     ]
    }
   ],
   "source": [
    "import pandas as pd\n",
    "import numpy as np\n",
    "import random\n",
    "from sklearn.model_selection import train_test_split\n",
    "from sklearn.feature_extraction.text import TfidfVectorizer\n",
    "from sklearn.preprocessing import LabelBinarizer\n",
    "import torch\n",
    "import torch.nn as nn\n",
    "import torch.optim as optim\n",
    "from torch.utils.data import Dataset, DataLoader\n",
    "import matplotlib.pyplot as plt\n",
    "import seaborn as sns"
   ]
  },
  {
   "cell_type": "code",
   "execution_count": 2,
   "id": "3163c3bf",
   "metadata": {},
   "outputs": [],
   "source": [
    "seed = 42\n",
    "random.seed(seed)\n",
    "np.random.seed(seed)\n",
    "torch.manual_seed(seed)\n",
    "torch.cuda.manual_seed(seed)\n",
    "torch.backends.cudnn.deterministic = True\n",
    "torch.backends.cudnn.benchmark = False"
   ]
  },
  {
   "cell_type": "markdown",
   "id": "bba91eca",
   "metadata": {},
   "source": [
    "## 데이터 불러오기"
   ]
  },
  {
   "cell_type": "code",
   "execution_count": 3,
   "id": "6f7c1c0c",
   "metadata": {},
   "outputs": [],
   "source": [
    "df_광주 = pd.read_csv('data/finish/광주.csv')\n",
    "df_대구 = pd.read_csv('data/finish/대구.csv')\n",
    "df_대전 = pd.read_csv('data/finish/대전.csv')\n",
    "df_부산 = pd.read_csv('data/finish/부산.csv')\n",
    "df_서울 = pd.read_csv('data/finish/서울.csv')\n",
    "df_울산 = pd.read_csv('data/finish/울산.csv')\n",
    "df_인천 = pd.read_csv('data/finish/인천.csv')\n",
    "df_제주 = pd.read_csv('data/finish/제주.csv')\n",
    "df_대한민국 = pd.read_csv('data/finish/대한민국.csv')"
   ]
  },
  {
   "cell_type": "markdown",
   "id": "7f5cca20",
   "metadata": {},
   "source": [
    "## class 분류 \n",
    "- 광주 -> 0\n",
    "- 대구 -> 1\n",
    "- 대전 -> 2\n",
    "- 부산 -> 3\n",
    "- 서울 -> 4\n",
    "- 울산 -> 5\n",
    "- 인천 -> 6\n",
    "- 제주 -> 7"
   ]
  },
  {
   "cell_type": "code",
   "execution_count": 4,
   "id": "5f70d2d5",
   "metadata": {
    "scrolled": true
   },
   "outputs": [],
   "source": [
    "df_광주['class'] = 0\n",
    "df_대구['class'] = 1\n",
    "df_대전['class'] = 2\n",
    "df_부산['class'] = 3\n",
    "df_서울['class'] = 4\n",
    "df_울산['class'] = 5\n",
    "df_인천['class'] = 6\n",
    "df_제주['class'] = 7"
   ]
  },
  {
   "cell_type": "code",
   "execution_count": 5,
   "id": "959a4fc8",
   "metadata": {},
   "outputs": [],
   "source": [
    "df0 = df_광주[['preprocessed_data','class']]\n",
    "df1 = df_대구[['preprocessed_data','class']]\n",
    "df2 = df_대전[['preprocessed_data','class']]\n",
    "df3 = df_부산[['preprocessed_data','class']]\n",
    "df4 = df_서울[['preprocessed_data','class']]\n",
    "df5 = df_울산[['preprocessed_data','class']]\n",
    "df6 = df_인천[['preprocessed_data','class']]\n",
    "df7 = df_제주[['preprocessed_data','class']]"
   ]
  },
  {
   "cell_type": "markdown",
   "id": "5c5a4cc8",
   "metadata": {},
   "source": [
    "## data concat"
   ]
  },
  {
   "cell_type": "code",
   "execution_count": 6,
   "id": "7cf191d8",
   "metadata": {},
   "outputs": [],
   "source": [
    "dfs = [df0, df1, df2, df3, df4, df5, df6, df7]"
   ]
  },
  {
   "cell_type": "code",
   "execution_count": 7,
   "id": "a6fc5ac4",
   "metadata": {},
   "outputs": [],
   "source": [
    "df = pd.concat(dfs, ignore_index=True)"
   ]
  },
  {
   "cell_type": "code",
   "execution_count": 8,
   "id": "b31cfddb",
   "metadata": {},
   "outputs": [
    {
     "data": {
      "text/html": [
       "<div>\n",
       "<style scoped>\n",
       "    .dataframe tbody tr th:only-of-type {\n",
       "        vertical-align: middle;\n",
       "    }\n",
       "\n",
       "    .dataframe tbody tr th {\n",
       "        vertical-align: top;\n",
       "    }\n",
       "\n",
       "    .dataframe thead th {\n",
       "        text-align: right;\n",
       "    }\n",
       "</style>\n",
       "<table border=\"1\" class=\"dataframe\">\n",
       "  <thead>\n",
       "    <tr style=\"text-align: right;\">\n",
       "      <th></th>\n",
       "      <th>preprocessed_data</th>\n",
       "      <th>class</th>\n",
       "    </tr>\n",
       "  </thead>\n",
       "  <tbody>\n",
       "    <tr>\n",
       "      <th>0</th>\n",
       "      <td>민주 운동 연루 기소 유예 처분 재수 검찰 죄 판단 서울서부지검 형사 부부장 검사 ...</td>\n",
       "      <td>0</td>\n",
       "    </tr>\n",
       "    <tr>\n",
       "      <th>1</th>\n",
       "      <td>의회 본회의 추경안 제안 설명 제안 설명 강기정 광주시장 제공 판매 금지 연합뉴스 ...</td>\n",
       "      <td>0</td>\n",
       "    </tr>\n",
       "    <tr>\n",
       "      <th>2</th>\n",
       "      <td>복합 쇼핑몰 종 오월 정신 헌법 수록 복지 강화 추경 원 광주시의회 힘 지혜 뉴시스...</td>\n",
       "      <td>0</td>\n",
       "    </tr>\n",
       "    <tr>\n",
       "      <th>3</th>\n",
       "      <td>내일 일자리 박람회 포스터 제공 뉴스 뉴스 박준 기자 우수 기업 인재 일자리 박람회...</td>\n",
       "      <td>0</td>\n",
       "    </tr>\n",
       "    <tr>\n",
       "      <th>4</th>\n",
       "      <td>고용 노동청 주최 우수 중견 중소기업 개사 참여 내일 일자리 박람회 포스터 사진 제...</td>\n",
       "      <td>0</td>\n",
       "    </tr>\n",
       "    <tr>\n",
       "      <th>...</th>\n",
       "      <td>...</td>\n",
       "      <td>...</td>\n",
       "    </tr>\n",
       "    <tr>\n",
       "      <th>13093</th>\n",
       "      <td>지난해 제주 인구 유출 호남지방통계청 국내 인구 이동 현황 지난하 시도 전입 인구 ...</td>\n",
       "      <td>7</td>\n",
       "    </tr>\n",
       "    <tr>\n",
       "      <th>13094</th>\n",
       "      <td>제회 제주포럼오 영훈 지사 필리핀 하원 주한 아랍 사단 면담 제회 포럼 제주국제컨벤...</td>\n",
       "      <td>7</td>\n",
       "    </tr>\n",
       "    <tr>\n",
       "      <th>13095</th>\n",
       "      <td>영훈 지사 필리핀 하원 대표단 주한 아랍 사단 면담 경제 관광 에너지 분야 교류 통...</td>\n",
       "      <td>7</td>\n",
       "    </tr>\n",
       "    <tr>\n",
       "      <th>13096</th>\n",
       "      <td>첫날 토요일 오늘 구름 많 맑 제주지방기상청 이날 중국 산둥 반도 부근 위치 기압 ...</td>\n",
       "      <td>7</td>\n",
       "    </tr>\n",
       "    <tr>\n",
       "      <th>13097</th>\n",
       "      <td>서귀포 뉴스 오 현지 기자 제주국제컨벤션센터 제회 포럼 무역 투자 협력 지방 외교 ...</td>\n",
       "      <td>7</td>\n",
       "    </tr>\n",
       "  </tbody>\n",
       "</table>\n",
       "<p>13098 rows × 2 columns</p>\n",
       "</div>"
      ],
      "text/plain": [
       "                                       preprocessed_data  class\n",
       "0      민주 운동 연루 기소 유예 처분 재수 검찰 죄 판단 서울서부지검 형사 부부장 검사 ...      0\n",
       "1      의회 본회의 추경안 제안 설명 제안 설명 강기정 광주시장 제공 판매 금지 연합뉴스 ...      0\n",
       "2      복합 쇼핑몰 종 오월 정신 헌법 수록 복지 강화 추경 원 광주시의회 힘 지혜 뉴시스...      0\n",
       "3      내일 일자리 박람회 포스터 제공 뉴스 뉴스 박준 기자 우수 기업 인재 일자리 박람회...      0\n",
       "4      고용 노동청 주최 우수 중견 중소기업 개사 참여 내일 일자리 박람회 포스터 사진 제...      0\n",
       "...                                                  ...    ...\n",
       "13093  지난해 제주 인구 유출 호남지방통계청 국내 인구 이동 현황 지난하 시도 전입 인구 ...      7\n",
       "13094  제회 제주포럼오 영훈 지사 필리핀 하원 주한 아랍 사단 면담 제회 포럼 제주국제컨벤...      7\n",
       "13095  영훈 지사 필리핀 하원 대표단 주한 아랍 사단 면담 경제 관광 에너지 분야 교류 통...      7\n",
       "13096  첫날 토요일 오늘 구름 많 맑 제주지방기상청 이날 중국 산둥 반도 부근 위치 기압 ...      7\n",
       "13097  서귀포 뉴스 오 현지 기자 제주국제컨벤션센터 제회 포럼 무역 투자 협력 지방 외교 ...      7\n",
       "\n",
       "[13098 rows x 2 columns]"
      ]
     },
     "execution_count": 8,
     "metadata": {},
     "output_type": "execute_result"
    }
   ],
   "source": [
    "df"
   ]
  },
  {
   "cell_type": "markdown",
   "id": "e2c81364",
   "metadata": {},
   "source": [
    "## LSTM Classification"
   ]
  },
  {
   "cell_type": "code",
   "execution_count": 9,
   "id": "fe0d36ab",
   "metadata": {},
   "outputs": [],
   "source": [
    "df_trn, df_tst = train_test_split(df, test_size=0.2, stratify=df['class'])"
   ]
  },
  {
   "cell_type": "code",
   "execution_count": 10,
   "id": "4e60b90e",
   "metadata": {},
   "outputs": [],
   "source": [
    "EMBED_DIM = 5000\n",
    "vectorizer = TfidfVectorizer(max_features=EMBED_DIM)\n",
    "\n",
    "vectorizer.fit(df_trn['preprocessed_data'])\n",
    "\n",
    "# train, test data의 preprocessed_desc를 TF-IDF로 변환\n",
    "x_trn = vectorizer.transform(df_trn['preprocessed_data']).toarray()\n",
    "x_tst = vectorizer.transform(df_tst['preprocessed_data']).toarray()"
   ]
  },
  {
   "cell_type": "code",
   "execution_count": 11,
   "id": "c301e675",
   "metadata": {},
   "outputs": [],
   "source": [
    "y_trn = df_trn['class'].values\n",
    "y_tst = df_tst['class'].values"
   ]
  },
  {
   "cell_type": "code",
   "execution_count": 12,
   "id": "4d903ce5",
   "metadata": {},
   "outputs": [],
   "source": [
    "#Dataset 정의\n",
    "class TextDataset(Dataset):\n",
    "    def __init__(self, X, y):\n",
    "        self.X = torch.tensor(X, dtype=torch.float32)\n",
    "        self.y = torch.tensor(y, dtype=torch.float32)\n",
    "\n",
    "    def __len__(self):\n",
    "        return len(self.X)\n",
    "\n",
    "    def __getitem__(self, idx):\n",
    "        return self.X[idx], self.y[idx]"
   ]
  },
  {
   "cell_type": "code",
   "execution_count": 13,
   "id": "9ed98366",
   "metadata": {},
   "outputs": [],
   "source": [
    "train_dataset = TextDataset(x_trn, y_trn)\n",
    "test_dataset = TextDataset(x_tst, y_tst)"
   ]
  },
  {
   "cell_type": "code",
   "execution_count": 14,
   "id": "2a90902b",
   "metadata": {},
   "outputs": [],
   "source": [
    "# 미니배치 생성기 정의\n",
    "train_loader = DataLoader(train_dataset,\n",
    "                          batch_size=32,\n",
    "                          shuffle=True,\n",
    "                         drop_last=True)\n",
    "test_loader = DataLoader(test_dataset,\n",
    "                         batch_size=32,\n",
    "                         shuffle=False,\n",
    "                        drop_last=False)"
   ]
  },
  {
   "cell_type": "code",
   "execution_count": 15,
   "id": "31ba87f6",
   "metadata": {},
   "outputs": [],
   "source": [
    "class LSTMClassifier(nn.Module): #LSTM 모델 정의\n",
    "    def __init__(self, input_dim, hidden_dim, output_dim):\n",
    "        super(LSTMClassifier, self).__init__()\n",
    "        self.lstm = nn.LSTM(input_dim, hidden_dim, batch_first=True)\n",
    "        self.fc = nn.Linear(hidden_dim, output_dim)\n",
    "        self.dropout = nn.Dropout(0.5)\n",
    "\n",
    "    def forward(self, x):\n",
    "        h_0 = torch.zeros(1, x.size(0), hidden_dim).to(x.device)\n",
    "        c_0 = torch.zeros(1, x.size(0), hidden_dim).to(x.device)\n",
    "        out, _ = self.lstm(x.unsqueeze(1), (h_0, c_0))\n",
    "        out = self.dropout(out[:, -1, :])\n",
    "        out = self.fc(out)\n",
    "        return out"
   ]
  },
  {
   "cell_type": "code",
   "execution_count": 16,
   "id": "8ce44986",
   "metadata": {},
   "outputs": [],
   "source": [
    "input_dim = x_trn.shape[1]\n",
    "hidden_dim = 128\n",
    "output_dim = len(set(y_trn))"
   ]
  },
  {
   "cell_type": "code",
   "execution_count": 17,
   "id": "35b0ac00",
   "metadata": {},
   "outputs": [
    {
     "data": {
      "text/plain": [
       "LSTMClassifier(\n",
       "  (lstm): LSTM(5000, 128, batch_first=True)\n",
       "  (fc): Linear(in_features=128, out_features=8, bias=True)\n",
       "  (dropout): Dropout(p=0.5, inplace=False)\n",
       ")"
      ]
     },
     "execution_count": 17,
     "metadata": {},
     "output_type": "execute_result"
    }
   ],
   "source": [
    "model = LSTMClassifier(input_dim, hidden_dim, output_dim)\n",
    "device = torch.device('cuda' if torch.cuda.is_available() else 'cpu')\n",
    "model.to(device)"
   ]
  },
  {
   "cell_type": "code",
   "execution_count": 18,
   "id": "4623bc8a",
   "metadata": {},
   "outputs": [],
   "source": [
    "# 손실함수와 옵티마이저 정의\n",
    "criterion = nn.CrossEntropyLoss()\n",
    "optimizer = optim.Adam(model.parameters(), lr=0.001)"
   ]
  },
  {
   "cell_type": "code",
   "execution_count": 19,
   "id": "e07e76e0",
   "metadata": {
    "scrolled": true
   },
   "outputs": [
    {
     "name": "stdout",
     "output_type": "stream",
     "text": [
      "Epoch 1/10, Loss: 1.712668693211465\n",
      "Epoch 2/10, Loss: 0.5990522116969484\n",
      "Epoch 3/10, Loss: 0.274798990366838\n",
      "Epoch 4/10, Loss: 0.1695312466073656\n",
      "Epoch 5/10, Loss: 0.1142652077537702\n",
      "Epoch 6/10, Loss: 0.08098093730992771\n",
      "Epoch 7/10, Loss: 0.06430235391038411\n",
      "Epoch 8/10, Loss: 0.05309920145244272\n",
      "Epoch 9/10, Loss: 0.04659255064058399\n",
      "Epoch 10/10, Loss: 0.040427754701126584\n"
     ]
    }
   ],
   "source": [
    "# 학습\n",
    "num_epochs = 10\n",
    "\n",
    "for epoch in range(num_epochs):\n",
    "    model.train()\n",
    "    running_loss = 0.0\n",
    "    for inputs, labels in train_loader:\n",
    "        inputs, labels = inputs.to(device), labels.to(device, dtype=torch.long)\n",
    "        optimizer.zero_grad()\n",
    "        outputs = model(inputs)\n",
    "        loss = criterion(outputs, labels)\n",
    "        loss.backward()\n",
    "        optimizer.step()\n",
    "        running_loss += loss.item()\n",
    "    \n",
    "    print(f'Epoch {epoch+1}/{num_epochs}, Loss: {running_loss/len(train_loader)}')"
   ]
  },
  {
   "cell_type": "code",
   "execution_count": 20,
   "id": "d0d2fd73",
   "metadata": {},
   "outputs": [
    {
     "name": "stdout",
     "output_type": "stream",
     "text": [
      "Test Accuracy: 0.9148854961832061\n"
     ]
    }
   ],
   "source": [
    "# 평가\n",
    "model.eval()\n",
    "correct = 0\n",
    "total = 0\n",
    "with torch.no_grad():\n",
    "    for inputs, labels in test_loader:\n",
    "        inputs, labels = inputs.to(device), labels.to(device, dtype=torch.long)\n",
    "        outputs = model(inputs)\n",
    "        predicted = torch.argmax(outputs, dim=1)\n",
    "        total += labels.size(0)\n",
    "        correct += (predicted == labels).sum().item()\n",
    "\n",
    "print(f'Test Accuracy: {correct / total}')"
   ]
  },
  {
   "cell_type": "markdown",
   "id": "dfee97f4",
   "metadata": {},
   "source": [
    "### 대한민국 데이터를 이 모델에 넣어보자\n",
    "- 서울-제주 8개의 지역으로 학습시킨 모델은 대한민국을 어디로 분류할까"
   ]
  },
  {
   "cell_type": "code",
   "execution_count": 21,
   "id": "3a6c1bdf",
   "metadata": {},
   "outputs": [],
   "source": [
    "korea = vectorizer.transform(df_대한민국['preprocessed_data']).toarray()"
   ]
  },
  {
   "cell_type": "code",
   "execution_count": 22,
   "id": "42391d2d",
   "metadata": {},
   "outputs": [],
   "source": [
    "class TextDataset(Dataset):\n",
    "    def __init__(self, X):\n",
    "        self.X = torch.tensor(X, dtype=torch.float32)\n",
    "\n",
    "    def __len__(self):\n",
    "        return len(self.X)\n",
    "\n",
    "    def __getitem__(self, idx):\n",
    "        return self.X[idx]"
   ]
  },
  {
   "cell_type": "code",
   "execution_count": 23,
   "id": "cddc394d",
   "metadata": {},
   "outputs": [],
   "source": [
    "korea_dataset = TextDataset(korea)\n",
    "korea_loader = DataLoader(korea_dataset, batch_size=32, shuffle=False, drop_last=False)"
   ]
  },
  {
   "cell_type": "code",
   "execution_count": 24,
   "id": "b9080906",
   "metadata": {},
   "outputs": [],
   "source": [
    "# 모델 평가\n",
    "model.eval()\n",
    "predictions = []\n",
    "with torch.no_grad():\n",
    "    for inputs in korea_loader:\n",
    "        inputs = inputs.to(device)\n",
    "        outputs = model(inputs)\n",
    "        predicted = torch.argmax(outputs, dim=1)\n",
    "        predictions.extend(predicted.cpu().numpy())"
   ]
  },
  {
   "cell_type": "markdown",
   "id": "a8bc06ad",
   "metadata": {},
   "source": [
    "### 예측값 시각화"
   ]
  },
  {
   "cell_type": "code",
   "execution_count": 25,
   "id": "1a352b63",
   "metadata": {},
   "outputs": [
    {
     "data": {
      "image/png": "[encoded data removed]",
      "text/plain": [
       "<Figure size 1000x600 with 1 Axes>"
      ]
     },
     "metadata": {},
     "output_type": "display_data"
    }
   ],
   "source": [
    "mapping = {0: 'GwangJu', 1: 'DaeGu', 2: 'Daejeon', 3: 'Busan', 4: 'Seoul', 5: 'Ulsan', 6: 'InCheon', 7: 'JeJu'}\n",
    "\n",
    "#class를 도시 이름으로 바꾸기\n",
    "cities = [mapping[num] for num in predictions]\n",
    "\n",
    "df = pd.DataFrame(cities, columns=['city'])\n",
    "\n",
    "frequency = df['city'].value_counts().sort_values(ascending=False)\n",
    "\n",
    "frequency_df = pd.DataFrame({'city': frequency.index, 'count': frequency.values})\n",
    "\n",
    "plt.figure(figsize=(10, 6))\n",
    "plt.bar(frequency_df['city'], frequency_df['count'], color='skyblue')\n",
    "plt.xlabel('City')\n",
    "plt.ylabel('Frequency')\n",
    "plt.title('Predicting Korea to 8 Cities')\n",
    "plt.xticks(rotation=45)\n",
    "plt.grid(axis='y')\n",
    "\n",
    "# 그래프 표시\n",
    "plt.show()"
   ]
  }
 ],
 "metadata": {
  "kernelspec": {
   "display_name": "Python 3 (ipykernel)",
   "language": "python",
   "name": "python3"
  },
  "language_info": {
   "codemirror_mode": {
    "name": "ipython",
    "version": 3
   },
   "file_extension": ".py",
   "mimetype": "text/x-python",
   "name": "python",
   "nbconvert_exporter": "python",
   "pygments_lexer": "ipython3",
   "version": "3.9.16"
  }
 },
 "nbformat": 4,
 "nbformat_minor": 5
}
